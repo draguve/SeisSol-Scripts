{
 "cells": [
  {
   "cell_type": "code",
   "execution_count": 82,
   "id": "12686667-6aec-45a4-ae1f-3ef44f6ee2ce",
   "metadata": {},
   "outputs": [],
   "source": [
    "import matplotlib.pyplot as plt\n",
    "import pandas as pd\n",
    "import os\n",
    "import numpy as np\n",
    "from pathlib import Path\n",
    "from tqdm import tqdm"
   ]
  },
  {
   "cell_type": "code",
   "execution_count": 22,
   "id": "2f56f74c-7df4-475d-b557-317543d99819",
   "metadata": {},
   "outputs": [],
   "source": [
    "to_plot = \"vel\"\n",
    "directory = \"outputs/outdir_608h/\"\n",
    "output_location = \"outputs/plots/\"\n",
    "dir_list = os.listdir(directory)\n",
    "files_to_process = list(filter(lambda filename: to_plot in filename, dir_list))\n",
    "num_files_to_process = len(files_to_process)\n",
    "ids_to_plot = np.array((0,1,2))\n",
    "num_ids_to_plot, = ids_to_plot.shape"
   ]
  },
  {
   "cell_type": "code",
   "execution_count": null,
   "id": "8c4426fc-cbfc-4b15-a038-d2276397ad4e",
   "metadata": {},
   "outputs": [
    {
     "name": "stderr",
     "output_type": "stream",
     "text": [
      "Processing Files:  47%|█████████████████████████████████████████████████████▋                                                            | 24/51 [00:12<00:14,  1.91it/s]"
     ]
    }
   ],
   "source": [
    "time_step = np.zeros((num_files_to_process))\n",
    "output_data = np.zeros((num_ids_to_plot,num_files_to_process,3))\n",
    "locations = np.zeros((num_ids_to_plot,3))\n",
    "for i in tqdm(range(num_files_to_process),desc=\"Processing Files\"):\n",
    "    file = files_to_process[i]\n",
    "    data = pd.read_csv(f\"{directory}{file}\", header=None, comment='#', sep=r'\\s+')\n",
    "    data = data.to_numpy()\n",
    "    if i==0:\n",
    "        locations = data[ids_to_plot,1:4]\n",
    "    else:\n",
    "        if not np.all(locations==data[ids_to_plot,1:4]):\n",
    "            print(\"problem, positions dont match\")\n",
    "    time_step[i] = data[0,0]\n",
    "    output_data[:,i] = data[ids_to_plot,4:7]\n",
    "\n",
    "sorted_indices = np.argsort(time_step)\n",
    "Path(output_location).mkdir(parents=True, exist_ok=True)\n",
    "for i in range(num_ids_to_plot):\n",
    "    title = f\"{to_plot}_at_{locations[i]}\".replace(\" \",\"\").replace(\"[\",\"(\").replace(\"]\",\")\")\n",
    "    fig, axs = plt.subplots(2, 2, figsize=(12, 10))\n",
    "    fig.suptitle(title)\n",
    "    axs[0, 0].plot(time_step[sorted_indices], output_data[i, sorted_indices, 0], label='component 0')\n",
    "    axs[0, 0].set_title(f\"component 0\")\n",
    "    axs[0, 0].set_xlabel('Time Step')\n",
    "    axs[0, 0].set_ylabel(f'{to_plot}')\n",
    "    axs[0, 1].plot(time_step[sorted_indices], output_data[i, sorted_indices, 1], label='component 1')\n",
    "    axs[0, 1].set_title(f\"component 1\")\n",
    "    axs[0, 1].set_xlabel('Time Step')\n",
    "    axs[0, 1].set_ylabel(f'{to_plot}')\n",
    "    axs[1, 0].plot(time_step[sorted_indices], output_data[i, sorted_indices, 2], label='component 2')\n",
    "    axs[1, 0].set_title(f\"component 2\")\n",
    "    axs[1, 0].set_xlabel('Time Step')\n",
    "    axs[1, 0].set_ylabel(f'{to_plot}')\n",
    "    # Adjust layout and show plot\n",
    "    plt.tight_layout()\n",
    "    plt.savefig(f\"{output_location}{title}.png\")\n",
    "    plt.close(fig)\n"
   ]
  },
  {
   "cell_type": "code",
   "execution_count": null,
   "id": "fa525b1d-5554-4d5b-9718-188cb79e46b5",
   "metadata": {},
   "outputs": [],
   "source": []
  }
 ],
 "metadata": {
  "kernelspec": {
   "display_name": "Python 3 (ipykernel)",
   "language": "python",
   "name": "python3"
  },
  "language_info": {
   "codemirror_mode": {
    "name": "ipython",
    "version": 3
   },
   "file_extension": ".py",
   "mimetype": "text/x-python",
   "name": "python",
   "nbconvert_exporter": "python",
   "pygments_lexer": "ipython3",
   "version": "3.12.3"
  }
 },
 "nbformat": 4,
 "nbformat_minor": 5
}
